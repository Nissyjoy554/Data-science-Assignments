{
 "cells": [
  {
   "cell_type": "markdown",
   "id": "d412f743-c145-4ebc-bce4-b5c981252906",
   "metadata": {},
   "source": [
    "# BASIC ASSIGNMENT-02"
   ]
  },
  {
   "cell_type": "markdown",
   "id": "bffe9c33-2ef0-4220-9fd6-167caad73aa6",
   "metadata": {},
   "source": [
    "# a. Build 99% Confidence Interval Using Sample Standard Deviation\n"
   ]
  },
  {
   "cell_type": "code",
   "execution_count": null,
   "id": "085120c7-50da-4025-9c10-ea5c323d7e49",
   "metadata": {},
   "outputs": [],
   "source": []
  },
  {
   "cell_type": "code",
   "execution_count": null,
   "id": "b43aa783-79dd-4bc6-9443-ca352bab939f",
   "metadata": {},
   "outputs": [],
   "source": [
    "Data:\n",
    "1.13, 1.55, 1.43, 0.92, 1.25, 1.36, 1.32, 0.85, 1.07, 1.48, 1.20, 1.33, 1.18, 1.22, 1.29\n"
   ]
  },
  {
   "cell_type": "code",
   "execution_count": 19,
   "id": "7b35783d-fc2d-499f-aa73-36405bda2da7",
   "metadata": {},
   "outputs": [],
   "source": [
    "import pandas as pd\n",
    "import numpy as np\n",
    "from scipy import stats\n",
    "#import scipy as stats"
   ]
  },
  {
   "cell_type": "code",
   "execution_count": 4,
   "id": "ccc7ac11-e6d4-4a63-8854-ae22411afc83",
   "metadata": {},
   "outputs": [],
   "source": [
    "data=pd.Series([1.13, 1.55, 1.43, 0.92, 1.25, 1.36, 1.32, 0.85, 1.07, 1.48, 1.20, 1.33, 1.18, 1.22, 1.29])"
   ]
  },
  {
   "cell_type": "code",
   "execution_count": 6,
   "id": "9ca33810-2f22-4f9c-a464-1c7f9ec6338d",
   "metadata": {},
   "outputs": [
    {
     "data": {
      "text/plain": [
       "1.2386666666666666"
      ]
     },
     "execution_count": 6,
     "metadata": {},
     "output_type": "execute_result"
    }
   ],
   "source": [
    "data.mean()"
   ]
  },
  {
   "cell_type": "code",
   "execution_count": 8,
   "id": "c72d1dc4-4826-4ed3-92a1-b2363654b19b",
   "metadata": {},
   "outputs": [
    {
     "data": {
      "text/plain": [
       "0.19316412956959936"
      ]
     },
     "execution_count": 8,
     "metadata": {},
     "output_type": "execute_result"
    }
   ],
   "source": [
    "data.std()"
   ]
  },
  {
   "cell_type": "code",
   "execution_count": 22,
   "id": "99d459d9-0d69-4771-b19a-ba1780062a4f",
   "metadata": {},
   "outputs": [
    {
     "data": {
      "text/plain": [
       "(0.6637716680428453, 1.8134283319571547)"
      ]
     },
     "execution_count": 22,
     "metadata": {},
     "output_type": "execute_result"
    }
   ],
   "source": [
    "# 99% CONFIDENCE INTERVAL \n",
    "stats.t.interval(0.99,loc=1.2386,scale=0.1931,df=14)"
   ]
  },
  {
   "cell_type": "markdown",
   "id": "860a7d59-e147-49db-bb0d-c1ffe42bd6b7",
   "metadata": {},
   "source": [
    "# STEPS:"
   ]
  },
  {
   "cell_type": "code",
   "execution_count": null,
   "id": "9d1f723d-8b87-40c9-a8d8-9a55f285f989",
   "metadata": {},
   "outputs": [],
   "source": [
    "1. Importing of scipy as stats \n",
    "2. Calculate the mean and standard devioation \n",
    "3. Calculate 99% confidence interval using sample standard deviation"
   ]
  },
  {
   "cell_type": "markdown",
   "id": "5f2880c9-93fb-4702-8b7f-ec83bb705c6d",
   "metadata": {},
   "source": [
    "# b. Build 99% Confidence Interval Using Known Population Standard Deviation\n",
    "If it were known that the population standard deviation is 0.2 million characters, construct a 99% confidence interval for the mean number of characters printed before failure.\n"
   ]
  },
  {
   "cell_type": "code",
   "execution_count": 21,
   "id": "17b3e186-c872-4641-a72d-765604385754",
   "metadata": {},
   "outputs": [
    {
     "data": {
      "text/plain": [
       "(0.7234341392902198, 1.75376586070978)"
      ]
     },
     "execution_count": 21,
     "metadata": {},
     "output_type": "execute_result"
    }
   ],
   "source": [
    "# confidence interval\n",
    "stats.norm.interval(0.99,loc=1.2386,scale=0.2)\n"
   ]
  }
 ],
 "metadata": {
  "kernelspec": {
   "display_name": "Python 3 (ipykernel)",
   "language": "python",
   "name": "python3"
  },
  "language_info": {
   "codemirror_mode": {
    "name": "ipython",
    "version": 3
   },
   "file_extension": ".py",
   "mimetype": "text/x-python",
   "name": "python",
   "nbconvert_exporter": "python",
   "pygments_lexer": "ipython3",
   "version": "3.11.7"
  }
 },
 "nbformat": 4,
 "nbformat_minor": 5
}
