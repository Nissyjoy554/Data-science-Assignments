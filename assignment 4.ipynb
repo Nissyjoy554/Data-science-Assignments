{
 "cells": [
  {
   "cell_type": "markdown",
   "id": "bb3dc57d-b5d3-4f5b-9cf7-08244d84049a",
   "metadata": {},
   "source": [
    "#      CHI-SQUARE TEST"
   ]
  },
  {
   "cell_type": "code",
   "execution_count": 43,
   "id": "d27e5c13-47d5-4c90-b91a-1a78a649e607",
   "metadata": {},
   "outputs": [],
   "source": [
    "import pandas as pd\n",
    "from scipy.stats.contingency import chi2_contingency\n",
    "import math"
   ]
  },
  {
   "cell_type": "code",
   "execution_count": 12,
   "id": "053a17e6-22b9-4994-9fd0-631ba74b9184",
   "metadata": {},
   "outputs": [
    {
     "name": "stdout",
     "output_type": "stream",
     "text": [
      "contingency table\n",
      "                  smart thermostat  smart light\n",
      "very satisfied                  50           70\n",
      " satisfied                      80          100\n",
      "neutral                         60           90\n",
      "unsatisfied                     30           50\n",
      "very unsatisfied                20           50\n"
     ]
    }
   ],
   "source": [
    "data={'smart thermostat':[50,80,60,30,20],'smart light':[70,100,90,50,50]}\n",
    "df=pd.DataFrame(data,index=['very satisfied',' satisfied','neutral','unsatisfied','very unsatisfied'])\n",
    "print('contingency table')\n",
    "print(df)"
   ]
  },
  {
   "cell_type": "code",
   "execution_count": 17,
   "id": "60944372-3242-474b-8204-a5739c2e0742",
   "metadata": {},
   "outputs": [
    {
     "data": {
      "text/plain": [
       "(5.638227513227513,\n",
       " 0.22784371130697179,\n",
       " 4,\n",
       " array([[ 48.,  72.],\n",
       "        [ 72., 108.],\n",
       "        [ 60.,  90.],\n",
       "        [ 32.,  48.],\n",
       "        [ 28.,  42.]]))"
      ]
     },
     "execution_count": 17,
     "metadata": {},
     "output_type": "execute_result"
    }
   ],
   "source": [
    "chi2, p, dof, expected = chi2_contingency(df)\n",
    "chi2,p,dof,expected"
   ]
  },
  {
   "cell_type": "markdown",
   "id": "a5f8b367-3097-4acf-b2f5-51cab858f9b0",
   "metadata": {},
   "source": [
    "# 1. State the hypothesis"
   ]
  },
  {
   "cell_type": "code",
   "execution_count": 33,
   "id": "93e09623-6acd-4230-aba1-7129a2cff5db",
   "metadata": {},
   "outputs": [],
   "source": [
    "h0='There is a significant association between the variables'\n",
    "h1='There is no singinificant association between the variables'"
   ]
  },
  {
   "cell_type": "markdown",
   "id": "91620392-142d-4295-acaf-ef6338791aaf",
   "metadata": {},
   "source": [
    "# 2. Compute the chi-square statistic"
   ]
  },
  {
   "cell_type": "code",
   "execution_count": 36,
   "id": "4fdf3d3e-17bd-4f41-925f-c380fb54d963",
   "metadata": {},
   "outputs": [
    {
     "name": "stdout",
     "output_type": "stream",
     "text": [
      "\n",
      "Chi-Square Test Results:\n",
      "Chi-Square Statistic: 5.638227513227513\n",
      "P-Value: 0.22784371130697179\n",
      "Degrees of Freedom: 4\n",
      "Expected Frequencies:\n",
      "[[ 48.  72.]\n",
      " [ 72. 108.]\n",
      " [ 60.  90.]\n",
      " [ 32.  48.]\n",
      " [ 28.  42.]]\n"
     ]
    }
   ],
   "source": [
    "print(\"\\nChi-Square Test Results:\")\n",
    "\n",
    "print(f\"Chi-Square Statistic: {chi2}\")\n",
    "print(f\"P-Value: {p}\")\n",
    "print(f\"Degrees of Freedom: {dof}\")\n",
    "print(\"Expected Frequencies:\")\n",
    "print(expected)\n",
    "\n"
   ]
  },
  {
   "cell_type": "markdown",
   "id": "828bf4a2-ab72-4c9a-8ebf-027f669fce12",
   "metadata": {},
   "source": [
    "# 3. Determine the Critical Value:"
   ]
  },
  {
   "cell_type": "code",
   "execution_count": 37,
   "id": "6c554dc0-352c-4d5f-9840-6f4c7572b933",
   "metadata": {},
   "outputs": [],
   "source": [
    "alpha = 0.05"
   ]
  },
  {
   "cell_type": "markdown",
   "id": "16919ac7-b8a7-4163-80dc-f897a86b6335",
   "metadata": {},
   "source": [
    "# 4.make a desicion"
   ]
  },
  {
   "cell_type": "code",
   "execution_count": 38,
   "id": "8d68d8d2-bc98-4173-b496-b5d2aaf0f8a5",
   "metadata": {},
   "outputs": [
    {
     "name": "stdout",
     "output_type": "stream",
     "text": [
      "There is no singinificant association between the variables\n"
     ]
    }
   ],
   "source": [
    "if p < alpha:\n",
    "    print(h0)\n",
    "else:\n",
    "    print(h1)"
   ]
  },
  {
   "cell_type": "code",
   "execution_count": null,
   "id": "b142bcc9-a652-41b4-a904-b0aabd0369b8",
   "metadata": {},
   "outputs": [],
   "source": []
  },
  {
   "cell_type": "code",
   "execution_count": null,
   "id": "b0586399-b335-4a15-9b50-86215041151b",
   "metadata": {},
   "outputs": [],
   "source": []
  },
  {
   "cell_type": "code",
   "execution_count": null,
   "id": "5feb730e-5023-452b-b7d9-805990623c18",
   "metadata": {},
   "outputs": [],
   "source": []
  },
  {
   "cell_type": "markdown",
   "id": "6666bb93-85ed-48b9-b5cb-2ba2412b7619",
   "metadata": {},
   "source": [
    "# HYPOTHESIS TESTING"
   ]
  },
  {
   "cell_type": "code",
   "execution_count": 51,
   "id": "7719e8df-2e93-4cd7-a520-e4146f5438de",
   "metadata": {},
   "outputs": [],
   "source": [
    "# Given data\n",
    "\n",
    "sample_mean = 3050  \n",
    "theoretical_mean = 1000 + 5 * 600  \n",
    "sample_std_dev = 5 * 25\n",
    "sample_size = 25\n"
   ]
  },
  {
   "cell_type": "markdown",
   "id": "b58cefff-c227-4383-a8f5-2407b052d215",
   "metadata": {},
   "source": [
    "# 1. State the Hypotheses statement:"
   ]
  },
  {
   "cell_type": "code",
   "execution_count": 53,
   "id": "da9ba451-8662-49f0-ace8-e22287464815",
   "metadata": {},
   "outputs": [],
   "source": [
    "h0='The mean weekly operating cost is equal to the theoretical cost'\n",
    "h1='The mean weekly operating cost is  not equal to the theoretical cost'"
   ]
  },
  {
   "cell_type": "markdown",
   "id": "7d64a391-4331-47f3-be99-fb72826327f3",
   "metadata": {},
   "source": [
    "# 2. Calculate the Test Statistic:"
   ]
  },
  {
   "cell_type": "code",
   "execution_count": 45,
   "id": "2565337b-51da-460c-a6ec-2faad99a745c",
   "metadata": {},
   "outputs": [
    {
     "data": {
      "text/plain": [
       "-38.0"
      ]
     },
     "execution_count": 45,
     "metadata": {},
     "output_type": "execute_result"
    }
   ],
   "source": [
    "\n",
    "t_statistic = (sample_mean - theoretical_mean) / (sample_std_dev / math.sqrt(sample_size))\n",
    "t_statistic"
   ]
  },
  {
   "cell_type": "code",
   "execution_count": 54,
   "id": "6907b046-b829-4083-aceb-1e58ffcd3386",
   "metadata": {},
   "outputs": [
    {
     "data": {
      "text/plain": [
       "24"
      ]
     },
     "execution_count": 54,
     "metadata": {},
     "output_type": "execute_result"
    }
   ],
   "source": [
    "# degrees of freedom\n",
    "df = sample_size - 1\n",
    "df"
   ]
  },
  {
   "cell_type": "code",
   "execution_count": 55,
   "id": "f8eec243-b0e7-4174-a987-86e638a20faf",
   "metadata": {},
   "outputs": [
    {
     "data": {
      "text/plain": [
       "0.0"
      ]
     },
     "execution_count": 55,
     "metadata": {},
     "output_type": "execute_result"
    }
   ],
   "source": [
    "# calculating the prabability value\n",
    "p_value = 2 * (1 - stats.t.cdf(abs(t_statistic), df))\n",
    "p_value"
   ]
  },
  {
   "cell_type": "code",
   "execution_count": 50,
   "id": "6479163b-58da-441b-a6a6-0f849c9de777",
   "metadata": {},
   "outputs": [
    {
     "name": "stdout",
     "output_type": "stream",
     "text": [
      "Test Statistic (t): -38.0\n",
      "P-value: 0.0\n"
     ]
    }
   ],
   "source": [
    "print(f\"Test Statistic (t): {t_statistic}\")\n",
    "print(f\"P-value: {p_value}\")\n"
   ]
  },
  {
   "cell_type": "markdown",
   "id": "2d4c587f-a782-42cc-9e7b-501d138a3a41",
   "metadata": {},
   "source": [
    "# 3. Determine the Critical Value:"
   ]
  },
  {
   "cell_type": "code",
   "execution_count": null,
   "id": "019ac438-2805-4b2b-b7cc-2425c0c12acf",
   "metadata": {},
   "outputs": [],
   "source": [
    "alpha=0.5"
   ]
  },
  {
   "cell_type": "markdown",
   "id": "36c6b281-3d47-4d59-af64-13dda562e1d0",
   "metadata": {},
   "source": [
    "# 4. make a decision"
   ]
  },
  {
   "cell_type": "code",
   "execution_count": 56,
   "id": "41f1b564-5354-41c4-badb-a2dfbc9efefa",
   "metadata": {},
   "outputs": [
    {
     "name": "stdout",
     "output_type": "stream",
     "text": [
      "The mean weekly operating cost is  not equal to the theoretical cost\n"
     ]
    }
   ],
   "source": [
    "if p < alpha:\n",
    "    print(h0)\n",
    "else:\n",
    "    print(h1)"
   ]
  }
 ],
 "metadata": {
  "kernelspec": {
   "display_name": "Python 3 (ipykernel)",
   "language": "python",
   "name": "python3"
  },
  "language_info": {
   "codemirror_mode": {
    "name": "ipython",
    "version": 3
   },
   "file_extension": ".py",
   "mimetype": "text/x-python",
   "name": "python",
   "nbconvert_exporter": "python",
   "pygments_lexer": "ipython3",
   "version": "3.11.7"
  }
 },
 "nbformat": 4,
 "nbformat_minor": 5
}
